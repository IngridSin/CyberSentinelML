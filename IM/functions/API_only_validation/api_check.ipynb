{
 "cells": [
  {
   "cell_type": "markdown",
   "id": "4cbea691-d680-48e7-839c-b73388b40dc5",
   "metadata": {},
   "source": [
    "# Input for Function"
   ]
  },
  {
   "cell_type": "markdown",
   "id": "827ce726-8360-40f5-8a23-81641932f79e",
   "metadata": {},
   "source": [
    "## Legitimate Email check "
   ]
  },
  {
   "cell_type": "code",
   "execution_count": 9,
   "id": "cce66429-b2c0-409e-8cb2-759d7a377a0c",
   "metadata": {},
   "outputs": [
    {
     "name": "stdout",
     "output_type": "stream",
     "text": [
      "Detailed Results:\n",
      "{\n",
      "  \"message_id\": \"<bm-5566-101084-3663130-360435391@lists.bettermail.ca>\",\n",
      "  \"checks\": {\n",
      "    \"dkim\": {\n",
      "      \"status\": \"valid\",\n",
      "      \"details\": \"Valid DKIM signature found\"\n",
      "    },\n",
      "    \"spf\": {\n",
      "      \"status\": \"not_checked\",\n",
      "      \"details\": \"\"\n",
      "    },\n",
      "    \"domain_alignment\": {\n",
      "      \"status\": \"not_checked\",\n",
      "      \"details\": \"\"\n",
      "    },\n",
      "    \"reply_to_risk\": {\n",
      "      \"status\": \"not_checked\",\n",
      "      \"details\": \"\"\n",
      "    }\n",
      "  },\n",
      "  \"overall_status\": \"valid\"\n",
      "}\n"
     ]
    }
   ],
   "source": [
    "# Legitimate Email check \n",
    "\n",
    "\n",
    "import json\n",
    "from api_validation import validate_email_headers  \n",
    "\n",
    "# Pass these Parameters as a Input \n",
    "result = validate_email_headers(\n",
    "\n",
    "    dkim_signature=\"v=1; a=rsa-sha256; c=relaxed/relaxed; d=accounts.google.com; s=20230601; t=1741564203; x=1742169003; dara=google.com; h=to:from:subject:message-id:feedback-id:date:mime-version:from:to:cc :subject:date:message-id:reply-to; bh=hL+Y6//AT3P9/If55fRMjUZS4lBGwpDxNfEczci0zrU=; b=X9KpL/1Bo6F9PnFuy+BlEWGabXJM0ElPaWWoOdZ6dDippNFWSYyoayXXR0fwwEWsB6 9GjdyRHLk3lYtO8BmxheTrz9fWnb8xqoCF0e5Q6chfg6TGHOijuollpROSlJ3w4WUbF/ x/Bf2Oaoz5652e0w0s2bP4tfdFDQNUbSqPmC887EcVfxfsz17f7UBU61hiY22jU5aze4 LZrTnE04MbC7hk7HVAg+6stEzwqYlUhBIa8gyFeeFyo5Q+w3+5AHA6T8YMhoEhR4hJ1y +DjFRE/tbiQZPDo/GPcDLBp72XyfHzvD09t6YH1/dpl9HcJn8suGYeaxYU38x+FNBRfw gXlg==\",\n",
    "    from_header=\"StudentVu Team <Support@studentvu.ca> Using bm-mailer 2.2\",\n",
    "    # return_path=\"<5566-101084-3663130@lists.bettermail.ca>\",\n",
    "    message_id=\"<bm-5566-101084-3663130-360435391@lists.bettermail.ca>\"\n",
    "    \n",
    ")\n",
    "\n",
    "print(\"Detailed Results:\")\n",
    "print(json.dumps(result, indent=2))"
   ]
  },
  {
   "cell_type": "markdown",
   "id": "28559a5b-8c4c-44ae-81d7-f80babf97496",
   "metadata": {},
   "source": [
    "## Phishing Email Check"
   ]
  },
  {
   "cell_type": "code",
   "execution_count": 10,
   "id": "7d1a2f1d-e64e-4e52-abac-253dbcacfde3",
   "metadata": {},
   "outputs": [
    {
     "name": "stdout",
     "output_type": "stream",
     "text": [
      "Detailed Results:\n",
      "{\n",
      "  \"message_id\": \"<CAEVoW38N5fmEJwWRR7970mJpVuHUASKGTTmzQ=-eWX74w7oxuQ@mail.gmail.com>\",\n",
      "  \"checks\": {\n",
      "    \"dkim\": {\n",
      "      \"status\": \"valid\",\n",
      "      \"details\": \"Valid DKIM signature found\"\n",
      "    },\n",
      "    \"spf\": {\n",
      "      \"status\": \"invalid\",\n",
      "      \"details\": \"SPF authentication failed\"\n",
      "    },\n",
      "    \"domain_alignment\": {\n",
      "      \"status\": \"not_checked\",\n",
      "      \"details\": \"\"\n",
      "    },\n",
      "    \"reply_to_risk\": {\n",
      "      \"status\": \"not_checked\",\n",
      "      \"details\": \"\"\n",
      "    }\n",
      "  },\n",
      "  \"overall_status\": \"invalid\"\n",
      "}\n"
     ]
    }
   ],
   "source": [
    "#Phishing Email Check\n",
    "\n",
    "\n",
    "import json\n",
    "from api_validation import validate_email_headers  \n",
    "\n",
    "# Pass these Parameters as a Input \n",
    "result = validate_email_headers(\n",
    "\n",
    "    dkim_signature=\"v=1; a=rsa-sha256; c=relaxed/relaxed; d=gmail.com; s=20230601; t=1743115063; x=1743719863; darn=my.centennialcollege.ca; h=to:subject:message-id:date:from:mime-version:from:to:cc:subject :date:message-id:reply-to; bh=GIdlnheEyP4ZIo8dauYmPGiyYf7f3jBT7NmFkXcpZe8=; b=C2iYw8ZszB/R3WiaVUQEOXG9LU8tuJtlVts2za7EQaVIvpQZJ1x9W92GqVCaFsuYDc FYcaEE5xqYo1DBqsHsxrWks7zwIr3mWWyoZXxBfxKdn+By46bCS23FEcfbm+PQrO/3cr Ezu7+mQDbF418oKMkJl6vuiEl/zrmTrBwFqgzkcFgjnbjKDSjCdBLJfrxNwz4mp1ZWek iDqvqKAHnWNUlrfHJssM4Olf622NPUS1eWz0HFHTH5hrc1zhKWLQ33HZlxN/3WylXJSa ABFHx7XCelmwFm0Sxoa8UP2y6miLTkfuMiMMrrnsYKaLjgJpYpJ+6QIxnVLdp4qQBQv9 BUDQ==\",  # Small company missing DKIM\n",
    "    received_spf=\"SoftFail (protection.outlook.com: domain of transitioning gmail.com discourages use of 205.220.177.74 as permitted sender)\",\n",
    "    from_header=\"Writers Hub <jamieyanicole@gmail.com>\",\n",
    "    # return_path=\"<jamieyanicole@gmail.com>\",\n",
    "    message_id=\"<CAEVoW38N5fmEJwWRR7970mJpVuHUASKGTTmzQ=-eWX74w7oxuQ@mail.gmail.com>\"\n",
    "    \n",
    ")\n",
    "\n",
    "print(\"Detailed Results:\")\n",
    "print(json.dumps(result, indent=2))"
   ]
  },
  {
   "cell_type": "code",
   "execution_count": null,
   "id": "74b74f5c-54ab-4740-8125-bcc3d3c45a8c",
   "metadata": {},
   "outputs": [],
   "source": []
  }
 ],
 "metadata": {
  "kernelspec": {
   "display_name": "Python 3 (ipykernel)",
   "language": "python",
   "name": "python3"
  },
  "language_info": {
   "codemirror_mode": {
    "name": "ipython",
    "version": 3
   },
   "file_extension": ".py",
   "mimetype": "text/x-python",
   "name": "python",
   "nbconvert_exporter": "python",
   "pygments_lexer": "ipython3",
   "version": "3.13.2"
  }
 },
 "nbformat": 4,
 "nbformat_minor": 5
}
