{
 "cells": [
  {
   "cell_type": "markdown",
   "id": "747fc2b9-0015-48f4-ad80-287f3ff62172",
   "metadata": {},
   "source": [
    "# Input for Function "
   ]
  },
  {
   "cell_type": "markdown",
   "id": "550d1aca-750a-4373-b994-284f3287e5c6",
   "metadata": {},
   "source": [
    "## Phishig Email Check"
   ]
  },
  {
   "cell_type": "code",
   "execution_count": 4,
   "id": "3eda5d6d-d1ee-4567-b454-de20431076bd",
   "metadata": {},
   "outputs": [
    {
     "name": "stdout",
     "output_type": "stream",
     "text": [
      "Detailed Results:\n",
      "{\n",
      "  \"message_id\": \"<CAEVoW38N5fmEJwWRR7970mJpVuHUASKGTTmzQ=-eWX74w7oxuQ@mail.gmail.com>\",\n",
      "  \"valid\": true,\n",
      "  \"risk_score\": 35,\n",
      "  \"risk_level\": \"Low\",\n",
      "  \"detailed_checks\": {\n",
      "    \"dkim\": {\n",
      "      \"status\": \"valid\",\n",
      "      \"details\": \"Valid DKIM signature\"\n",
      "    },\n",
      "    \"spf\": {\n",
      "      \"status\": \"invalid\",\n",
      "      \"details\": \"SPF authentication failed\"\n",
      "    },\n",
      "    \"domain_alignment\": {\n",
      "      \"status\": \"not_checked\",\n",
      "      \"details\": \"\"\n",
      "    },\n",
      "    \"reply_to_risk\": {\n",
      "      \"status\": \"not_checked\",\n",
      "      \"details\": \"\"\n",
      "    }\n",
      "  },\n",
      "  \"critical_issues\": [\n",
      "    \"SPF_FAILURE\"\n",
      "  ]\n",
      "}\n"
     ]
    }
   ],
   "source": [
    "#Phishig Email Check\n",
    "\n",
    "import json\n",
    "from api_validation import assess_email_risk \n",
    "\n",
    "# Pass these Parameters as a Input \n",
    "result = assess_email_risk(\n",
    "    dkim_signature=\"v=1; a=rsa-sha256; c=relaxed/relaxed; d=gmail.com; s=20230601; t=1743115063; x=1743719863; darn=my.centennialcollege.ca; h=to:subject:message-id:date:from:mime-version:from:to:cc:subject :date:message-id:reply-to; bh=GIdlnheEyP4ZIo8dauYmPGiyYf7f3jBT7NmFkXcpZe8=; b=C2iYw8ZszB/R3WiaVUQEOXG9LU8tuJtlVts2za7EQaVIvpQZJ1x9W92GqVCaFsuYDc FYcaEE5xqYo1DBqsHsxrWks7zwIr3mWWyoZXxBfxKdn+By46bCS23FEcfbm+PQrO/3cr Ezu7+mQDbF418oKMkJl6vuiEl/zrmTrBwFqgzkcFgjnbjKDSjCdBLJfrxNwz4mp1ZWek iDqvqKAHnWNUlrfHJssM4Olf622NPUS1eWz0HFHTH5hrc1zhKWLQ33HZlxN/3WylXJSa ABFHx7XCelmwFm0Sxoa8UP2y6miLTkfuMiMMrrnsYKaLjgJpYpJ+6QIxnVLdp4qQBQv9 BUDQ==\",  # Small company missing DKIM\n",
    "    received_spf=\"SoftFail (protection.outlook.com: domain of transitioning gmail.com discourages use of 205.220.177.74 as permitted sender)\",\n",
    "    from_header=\"Writers Hub <jamieyanicole@gmail.com>\",\n",
    "    # return_path=\"<jamieyanicole@gmail.com>\",\n",
    "    message_id=\"<CAEVoW38N5fmEJwWRR7970mJpVuHUASKGTTmzQ=-eWX74w7oxuQ@mail.gmail.com>\"\n",
    ")\n",
    "\n",
    "print(\"Detailed Results:\")\n",
    "print(json.dumps(result, indent=2))"
   ]
  },
  {
   "cell_type": "markdown",
   "id": "c4f7d83a-6ef2-4db4-9f90-691d0fa5a171",
   "metadata": {},
   "source": [
    "## Legitimate Email Check"
   ]
  },
  {
   "cell_type": "code",
   "execution_count": 6,
   "id": "65989d04-3500-4b5d-a985-c865dbfc3132",
   "metadata": {},
   "outputs": [
    {
     "name": "stdout",
     "output_type": "stream",
     "text": [
      "Detailed Results:\n",
      "{\n",
      "  \"message_id\": \"<MvJcs7IUUr6fBeh4CCOPCw@notifications.google.com>\",\n",
      "  \"valid\": true,\n",
      "  \"risk_score\": 0,\n",
      "  \"risk_level\": \"Verified Legitimate\",\n",
      "  \"detailed_checks\": {\n",
      "    \"dkim\": {\n",
      "      \"status\": \"valid\",\n",
      "      \"details\": \"Valid DKIM signature\"\n",
      "    },\n",
      "    \"spf\": {\n",
      "      \"status\": \"valid\",\n",
      "      \"details\": \"SPF authentication passed\"\n",
      "    },\n",
      "    \"domain_alignment\": {\n",
      "      \"status\": \"not_checked\",\n",
      "      \"details\": \"\"\n",
      "    },\n",
      "    \"reply_to_risk\": {\n",
      "      \"status\": \"not_checked\",\n",
      "      \"details\": \"\"\n",
      "    }\n",
      "  },\n",
      "  \"critical_issues\": []\n",
      "}\n"
     ]
    }
   ],
   "source": [
    "#Legitimate Email Check\n",
    "import json\n",
    "from api_validation import assess_email_risk \n",
    "\n",
    "# Pass these Parameters as a Input \n",
    "result = assess_email_risk(\n",
    "    dkim_signature=\"v=1; a=rsa-sha256; c=relaxed/relaxed; d=accounts.google.com; s=20230601; t=1741564203; x=1742169003; dara=google.com; h=to:from:subject:message-id:feedback-id:date:mime-version:from:to:cc :subject:date:message-id:reply-to; bh=hL+Y6//AT3P9/If55fRMjUZS4lBGwpDxNfEczci0zrU=; b=X9KpL/1Bo6F9PnFuy+BlEWGabXJM0ElPaWWoOdZ6dDippNFWSYyoayXXR0fwwEWsB6 9GjdyRHLk3lYtO8BmxheTrz9fWnb8xqoCF0e5Q6chfg6TGHOijuollpROSlJ3w4WUbF/ x/Bf2Oaoz5652e0w0s2bP4tfdFDQNUbSqPmC887EcVfxfsz17f7UBU61hiY22jU5aze4 LZrTnE04MbC7hk7HVAg+6stEzwqYlUhBIa8gyFeeFyo5Q+w3+5AHA6T8YMhoEhR4hJ1y +DjFRE/tbiQZPDo/GPcDLBp72XyfHzvD09t6YH1/dpl9HcJn8suGYeaxYU38x+FNBRfw gXlg==\",  # Small company missing DKIM\n",
    "    received_spf=\"pass (google.com: domain of 3kynozwgtdpopq-tgrn0ceeqwpvu.iqqing.eqolc0rtqlgeva8iockn.eqo@gaia.bounces.google.com designates 209.85.220.73 as permitted sender)\",\n",
    "    from_header=\"Google <no-reply@accounts.google.com>\",\n",
    "    # return_path=\"<3KynOZwgTDPopq-tgrn0ceeqwpvu.iqqing.eqolc0rtqlgevA8iockn.eqo@gaia.bounces.google.com>\",\n",
    "    message_id=\"<MvJcs7IUUr6fBeh4CCOPCw@notifications.google.com>\"\n",
    ")\n",
    "\n",
    "# print(\"Final Validation:\", \"Valid\" if result['is_valid'] else \"Invalid\")\n",
    "print(\"Detailed Results:\")\n",
    "print(json.dumps(result, indent=2))"
   ]
  },
  {
   "cell_type": "markdown",
   "id": "bddba76e-ff36-42f1-bab9-caff79bbc789",
   "metadata": {},
   "source": [
    "## Legitimate Email Check"
   ]
  },
  {
   "cell_type": "code",
   "execution_count": 5,
   "id": "b5c135ea-2d79-4e5c-ab6a-65a3f460d90c",
   "metadata": {},
   "outputs": [
    {
     "name": "stdout",
     "output_type": "stream",
     "text": [
      "Detailed Results:\n",
      "{\n",
      "  \"message_id\": \"<bm-5566-101084-3663130-360435391@lists.bettermail.ca>\",\n",
      "  \"valid\": true,\n",
      "  \"risk_score\": 0,\n",
      "  \"risk_level\": \"Verified Legitimate\",\n",
      "  \"detailed_checks\": {\n",
      "    \"dkim\": {\n",
      "      \"status\": \"valid\",\n",
      "      \"details\": \"Valid DKIM signature\"\n",
      "    },\n",
      "    \"spf\": {\n",
      "      \"status\": \"valid\",\n",
      "      \"details\": \"SPF authentication passed\"\n",
      "    },\n",
      "    \"domain_alignment\": {\n",
      "      \"status\": \"not_checked\",\n",
      "      \"details\": \"\"\n",
      "    },\n",
      "    \"reply_to_risk\": {\n",
      "      \"status\": \"not_checked\",\n",
      "      \"details\": \"\"\n",
      "    }\n",
      "  },\n",
      "  \"critical_issues\": []\n",
      "}\n"
     ]
    }
   ],
   "source": [
    "#Legitimate Email Check\n",
    "\n",
    "import json\n",
    "from api_validation import assess_email_risk \n",
    "\n",
    "# Pass these Parameters as a Input \n",
    "result = assess_email_risk(\n",
    "    dkim_signature=\"v=1; a=rsa-sha256; c=relaxed/relaxed; d=accounts.google.com; s=20230601; t=1741564203; x=1742169003; dara=google.com; h=to:from:subject:message-id:feedback-id:date:mime-version:from:to:cc :subject:date:message-id:reply-to; bh=hL+Y6//AT3P9/If55fRMjUZS4lBGwpDxNfEczci0zrU=; b=X9KpL/1Bo6F9PnFuy+BlEWGabXJM0ElPaWWoOdZ6dDippNFWSYyoayXXR0fwwEWsB6 9GjdyRHLk3lYtO8BmxheTrz9fWnb8xqoCF0e5Q6chfg6TGHOijuollpROSlJ3w4WUbF/ x/Bf2Oaoz5652e0w0s2bP4tfdFDQNUbSqPmC887EcVfxfsz17f7UBU61hiY22jU5aze4 LZrTnE04MbC7hk7HVAg+6stEzwqYlUhBIa8gyFeeFyo5Q+w3+5AHA6T8YMhoEhR4hJ1y +DjFRE/tbiQZPDo/GPcDLBp72XyfHzvD09t6YH1/dpl9HcJn8suGYeaxYU38x+FNBRfw gXlg==\",  # Small company missing DKIM\n",
    "    received_spf=\"pass (google.com: domain of 5566-101084-3663130@lists.bettermail.ca designates 216.105.95.238 as permitted sender)\",\n",
    "    from_header=\"StudentVu Team <Support@studentvu.ca> Using bm-mailer 2.2\",\n",
    "    # return_path=\"<5566-101084-3663130@lists.bettermail.ca>\",\n",
    "    message_id=\"<bm-5566-101084-3663130-360435391@lists.bettermail.ca>\"\n",
    ")\n",
    "\n",
    "print(\"Detailed Results:\")\n",
    "print(json.dumps(result, indent=2))"
   ]
  },
  {
   "cell_type": "markdown",
   "id": "be8ee472-ad56-4055-9daa-97c6262da46d",
   "metadata": {},
   "source": [
    "## Legitimate Email Check"
   ]
  },
  {
   "cell_type": "code",
   "execution_count": 1,
   "id": "4e5acc39-947a-4f5b-9cc8-375312d8306b",
   "metadata": {},
   "outputs": [
    {
     "name": "stdout",
     "output_type": "stream",
     "text": [
      "Detailed Results:\n",
      "{\n",
      "  \"message_id\": \"<CAEVoW38N5fmEJwWRR7970mJpVuHUASKGTTmzQ=-eWX74w7oxuQ@mail.gmail.com>\",\n",
      "  \"valid\": true,\n",
      "  \"risk_score\": 35,\n",
      "  \"risk_level\": \"Low\",\n",
      "  \"detailed_checks\": {\n",
      "    \"dkim\": {\n",
      "      \"status\": \"valid\",\n",
      "      \"details\": \"Valid DKIM signature\"\n",
      "    },\n",
      "    \"spf\": {\n",
      "      \"status\": \"invalid\",\n",
      "      \"details\": \"SPF authentication failed\"\n",
      "    },\n",
      "    \"domain_alignment\": {\n",
      "      \"status\": \"not_checked\",\n",
      "      \"details\": \"\"\n",
      "    },\n",
      "    \"reply_to_risk\": {\n",
      "      \"status\": \"not_checked\",\n",
      "      \"details\": \"\"\n",
      "    }\n",
      "  },\n",
      "  \"critical_issues\": [\n",
      "    \"SPF_FAILURE\"\n",
      "  ]\n",
      "}\n"
     ]
    }
   ],
   "source": [
    "#Legitimate Email Check\n",
    "\n",
    "import json\n",
    "from api_validation import assess_email_risk \n",
    "\n",
    "# Pass these Parameters as a Input \n",
    "result = assess_email_risk(\n",
    "    dkim_signature=\"v=1; a=rsa-sha256; c=relaxed/relaxed; d=gmail.com; s=20230601; t=1743115063; x=1743719863; darn=my.centennialcollege.ca; h=to:subject:message-id:date:from:mime-version:from:to:cc:subject :date:message-id:reply-to; bh=GIdlnheEyP4ZIo8dauYmPGiyYf7f3jBT7NmFkXcpZe8=; b=C2iYw8ZszB/R3WiaVUQEOXG9LU8tuJtlVts2za7EQaVIvpQZJ1x9W92GqVCaFsuYDc FYcaEE5xqYo1DBqsHsxrWks7zwIr3mWWyoZXxBfxKdn+By46bCS23FEcfbm+PQrO/3cr Ezu7+mQDbF418oKMkJl6vuiEl/zrmTrBwFqgzkcFgjnbjKDSjCdBLJfrxNwz4mp1ZWek iDqvqKAHnWNUlrfHJssM4Olf622NPUS1eWz0HFHTH5hrc1zhKWLQ33HZlxN/3WylXJSa ABFHx7XCelmwFm0Sxoa8UP2y6miLTkfuMiMMrrnsYKaLjgJpYpJ+6QIxnVLdp4qQBQv9 BUDQ==\",  # Small company missing DKIM\n",
    "    received_spf=\"SoftFail (protection.outlook.com: domain of transitioning gmail.com discourages use of 205.220.177.74 as permitted sender)\",\n",
    "    from_header=\"Writers Hub <jamieyanicole@gmail.com>\",\n",
    "    # return_path=\"<jamieyanicole@gmail.com>\",\n",
    "    message_id=\"<CAEVoW38N5fmEJwWRR7970mJpVuHUASKGTTmzQ=-eWX74w7oxuQ@mail.gmail.com>\"\n",
    ")\n",
    "\n",
    "print(\"Detailed Results:\")\n",
    "print(json.dumps(result, indent=2))"
   ]
  },
  {
   "cell_type": "code",
   "execution_count": null,
   "id": "bbf9a36d-a8c9-4789-85f7-e5185d5f6b65",
   "metadata": {},
   "outputs": [],
   "source": []
  }
 ],
 "metadata": {
  "kernelspec": {
   "display_name": "Python 3 (ipykernel)",
   "language": "python",
   "name": "python3"
  },
  "language_info": {
   "codemirror_mode": {
    "name": "ipython",
    "version": 3
   },
   "file_extension": ".py",
   "mimetype": "text/x-python",
   "name": "python",
   "nbconvert_exporter": "python",
   "pygments_lexer": "ipython3",
   "version": "3.13.2"
  }
 },
 "nbformat": 4,
 "nbformat_minor": 5
}
