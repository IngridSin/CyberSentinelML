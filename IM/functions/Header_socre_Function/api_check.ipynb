{
 "cells": [
  {
   "cell_type": "markdown",
   "id": "747fc2b9-0015-48f4-ad80-287f3ff62172",
   "metadata": {},
   "source": [
    "# Input for Function "
   ]
  },
  {
   "cell_type": "markdown",
   "id": "550d1aca-750a-4373-b994-284f3287e5c6",
   "metadata": {},
   "source": [
    "## Phishig Email Check"
   ]
  },
  {
   "cell_type": "code",
   "execution_count": 4,
   "id": "3eda5d6d-d1ee-4567-b454-de20431076bd",
   "metadata": {},
   "outputs": [
    {
     "name": "stdout",
     "output_type": "stream",
     "text": [
      "{\n",
      "  \"message_id\": \"<CAEVoW38N5fmEJwWRR7970mJpVuHUASKGTTmzQ=-eWX74w7oxuQ@mail.gmail.com>\",\n",
      "  \"risk_score\": 30,\n",
      "  \"risk_level\": \"medium\",\n",
      "  \"valid\": false,\n",
      "  \"checks\": {\n",
      "    \"dkim\": {\n",
      "      \"valid\": true,\n",
      "      \"details\": \"Valid structure\"\n",
      "    },\n",
      "    \"spf\": {\n",
      "      \"valid\": false,\n",
      "      \"details\": \"SPF failed\"\n",
      "    },\n",
      "    \"domain_alignment\": {\n",
      "      \"valid\": true,\n",
      "      \"details\": \"Aligned: gmail.com\"\n",
      "    },\n",
      "    \"reply_to_risk\": {\n",
      "      \"valid\": true,\n",
      "      \"details\": \"Not checked\"\n",
      "    }\n",
      "  },\n",
      "  \"warnings\": []\n",
      "}\n"
     ]
    }
   ],
   "source": [
    "#Phishig Email Check\n",
    "\n",
    "import json\n",
    "from api_validation import validate_email_headers\n",
    "\n",
    "result = validate_email_headers(\n",
    "    dkim_signature=\"v=1; a=rsa-sha256; c=relaxed/relaxed; d=gmail.com; s=20230601; t=1743115063; x=1743719863; darn=my.centennialcollege.ca; h=to:subject:message-id:date:from:mime-version:from:to:cc:subject :date:message-id:reply-to; bh=GIdlnheEyP4ZIo8dauYmPGiyYf7f3jBT7NmFkXcpZe8=; b=C2iYw8ZszB/R3WiaVUQEOXG9LU8tuJtlVts2za7EQaVIvpQZJ1x9W92GqVCaFsuYDc FYcaEE5xqYo1DBqsHsxrWks7zwIr3mWWyoZXxBfxKdn+By46bCS23FEcfbm+PQrO/3cr Ezu7+mQDbF418oKMkJl6vuiEl/zrmTrBwFqgzkcFgjnbjKDSjCdBLJfrxNwz4mp1ZWek iDqvqKAHnWNUlrfHJssM4Olf622NPUS1eWz0HFHTH5hrc1zhKWLQ33HZlxN/3WylXJSa ABFHx7XCelmwFm0Sxoa8UP2y6miLTkfuMiMMrrnsYKaLjgJpYpJ+6QIxnVLdp4qQBQv9 BUDQ==\",  # Small company missing DKIM\n",
    "    received_spf=\"SoftFail (protection.outlook.com: domain of transitioning gmail.com discourages use of 205.220.177.74 as permitted sender)\",\n",
    "    from_header=\"Writers Hub <jamieyanicole@gmail.com>\",\n",
    "    return_path=\"<jamieyanicole@gmail.com>\",\n",
    "    message_id=\"<CAEVoW38N5fmEJwWRR7970mJpVuHUASKGTTmzQ=-eWX74w7oxuQ@mail.gmail.com>\"\n",
    ")\n",
    "\n",
    "print(json.dumps(result, indent=2))"
   ]
  },
  {
   "cell_type": "markdown",
   "id": "bddba76e-ff36-42f1-bab9-caff79bbc789",
   "metadata": {},
   "source": [
    "## Legitimate Email Check"
   ]
  },
  {
   "cell_type": "code",
   "execution_count": 8,
   "id": "b5c135ea-2d79-4e5c-ab6a-65a3f460d90c",
   "metadata": {},
   "outputs": [
    {
     "name": "stdout",
     "output_type": "stream",
     "text": [
      "{\n",
      "  \"message_id\": \"<CADOMb5fvOfjibPNvVm7X-Aa7pqh8oxpXWr_p1AR8zmr1_R_W0Q@mail.gmail.com>\",\n",
      "  \"risk_score\": 0,\n",
      "  \"risk_level\": \"low\",\n",
      "  \"valid\": true,\n",
      "  \"checks\": {\n",
      "    \"dkim\": {\n",
      "      \"valid\": true,\n",
      "      \"details\": \"Valid structure\"\n",
      "    },\n",
      "    \"spf\": {\n",
      "      \"valid\": true,\n",
      "      \"details\": \"SPF passed\"\n",
      "    },\n",
      "    \"domain_alignment\": {\n",
      "      \"valid\": true,\n",
      "      \"details\": \"Aligned: gmail.com\"\n",
      "    },\n",
      "    \"reply_to_risk\": {\n",
      "      \"valid\": true,\n",
      "      \"details\": \"Not checked\"\n",
      "    }\n",
      "  },\n",
      "  \"warnings\": []\n",
      "}\n"
     ]
    }
   ],
   "source": [
    "import json\n",
    "from api_validation import validate_email_headers\n",
    "\n",
    "result = validate_email_headers(\n",
    "    dkim_signature=\"v=1; a=rsa-sha256; c=relaxed/relaxed; d=gmail.com; s=20230601; t=1742415831; x=1743020631; dara=google.com; h=to:subject:message-id:date:from:mime-version:from:to:cc:subject :date:message-id:reply-to; bh=78XeIufrtVRQ79ss007FIsun3e5DZm4Y3JuZpU8AEwA=; b=FsSyrGNI/5FgZKOy1fz2FXZZeYxseuwOVqXDP+syIYwRqE7FqeKc6Z/Ocj67jrEZGf 6X3UXXdsgr/ZfGEmnv8K2s1fWqWq5ETMcUxLnTXq7GfqJz/RKX2pOKiZzlWirzW+Vwiu 7nROzFzmNBe7CVJZAIBPrizwUamT4EJaBm5hpgU775W3YQZQiCWxGYFjmaRh00tXkwxP BRzowCvskfScGskZdTkVwVkbNeSzDiZy9TNZ9RSTi0FEZ/99rPCe0LYO6VvHB8+c8PCX h4jOXY9vCoWjRskraBLoqkPQ3jdMc0QQy5/P5rVTDI+caM7/zX+tAJyidfoeHPxZ1d6/ DY+g==\",\n",
    "    received_spf=\"pass (google.com: domain of jayprajapati00789@gmail.com designates 209.85.220.41 as permitted sender)\",\n",
    "    from_header=\"Jay Prajapati <jayprajapati00789@gmail.com>\",\n",
    "    return_path=\"<jayprajapati00789@gmail.com>\",\n",
    "    message_id=\"<CADOMb5fvOfjibPNvVm7X-Aa7pqh8oxpXWr_p1AR8zmr1_R_W0Q@mail.gmail.com>\"\n",
    ")\n",
    "\n",
    "print(json.dumps(result, indent=2))"
   ]
  },
  {
   "cell_type": "markdown",
   "id": "be8ee472-ad56-4055-9daa-97c6262da46d",
   "metadata": {},
   "source": [
    "## Legitimate Email Check"
   ]
  },
  {
   "cell_type": "code",
   "execution_count": 3,
   "id": "bbf9a36d-a8c9-4789-85f7-e5185d5f6b65",
   "metadata": {},
   "outputs": [
    {
     "name": "stdout",
     "output_type": "stream",
     "text": [
      "{\n",
      "  \"message_id\": \"<bm-5566-101084-3665890-361137107@lists.bettermail.ca>\",\n",
      "  \"risk_score\": 20,\n",
      "  \"risk_level\": \"low\",\n",
      "  \"valid\": true,\n",
      "  \"checks\": {\n",
      "    \"dkim\": {\n",
      "      \"valid\": true,\n",
      "      \"details\": \"Valid structure\"\n",
      "    },\n",
      "    \"spf\": {\n",
      "      \"valid\": true,\n",
      "      \"details\": \"SPF passed\"\n",
      "    },\n",
      "    \"domain_alignment\": {\n",
      "      \"valid\": false,\n",
      "      \"details\": \"From: studentvu.ca \\u2260 Return-Path: lists.bettermail.ca\"\n",
      "    },\n",
      "    \"reply_to_risk\": {\n",
      "      \"valid\": true,\n",
      "      \"details\": \"Not checked\"\n",
      "    }\n",
      "  },\n",
      "  \"warnings\": []\n",
      "}\n"
     ]
    }
   ],
   "source": [
    "import json\n",
    "from api_validation import validate_email_headers\n",
    "\n",
    "result = validate_email_headers(\n",
    "    dkim_signature=\"v=1; q=dns/txt; a=rsa-sha256; bh=GmgP0v6lu1kvP0+ZD766lSkwjvRba6RB3TKGTVT+G6U=; d=lists.bettermail.ca; h=To: Message-ID: X-Routing: List-Unsubscribe: List-Unsubscribe-Post: From: Feedback-ID: Date: Subject: MIME-Version; i=@lists.bettermail.ca; s=default; t=1727793406; c=relaxed/relaxed; b=Kl+XoVDdATNAFFXFE/l9vulz9ZZhhBVpUPpxb4sHPNErzkzf0l0VkkwT0rvwvQIRfuHtg0wG9 tNUsUK7YSrKgzMbY0JiZqLa1h9RcucIRrtfGjlx4PZeD2V0nDGu71xVIsE3iLWLFVgmKp3/bP KGoTtpIQnl5TSb2t9+MwGE0vEOfqV1v0PSPtTgGtgaRL73xWmKOiXx7u78HcEJvbjwgTdcw+c 2TfO+8VHLJjr71KfGp7m1xN9V5ADaQUjRg2ZwBZiTc9R0lQFVv/1xjSYVq2DoHX9bKtInXDtt nQBJVX9JE2kK6rkvrXFe+5XOXtK/N2/wjJXi8uy9OezXESJIRQ==\",\n",
    "    received_spf=\"pass (google.com: domain of 5566-101084-3665890@lists.bettermail.ca designates 216.105.95.238 as permitted sender)\",\n",
    "    from_header=\"StudentVu Team <Support@studentvu.ca> Using bm-mailer 2.2\",\n",
    "    return_path=\"<5566-101084-3665890@lists.bettermail.ca>\",\n",
    "    message_id=\"<bm-5566-101084-3665890-361137107@lists.bettermail.ca>\"\n",
    ")\n",
    "\n",
    "print(json.dumps(result, indent=2))"
   ]
  }
 ],
 "metadata": {
  "kernelspec": {
   "display_name": "Python 3 (ipykernel)",
   "language": "python",
   "name": "python3"
  },
  "language_info": {
   "codemirror_mode": {
    "name": "ipython",
    "version": 3
   },
   "file_extension": ".py",
   "mimetype": "text/x-python",
   "name": "python",
   "nbconvert_exporter": "python",
   "pygments_lexer": "ipython3",
   "version": "3.13.2"
  }
 },
 "nbformat": 4,
 "nbformat_minor": 5
}
