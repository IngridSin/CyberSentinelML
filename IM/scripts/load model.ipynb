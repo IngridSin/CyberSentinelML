{
 "cells": [
  {
   "cell_type": "code",
   "id": "initial_id",
   "metadata": {
    "collapsed": true,
    "ExecuteTime": {
     "end_time": "2025-03-27T17:55:47.348351Z",
     "start_time": "2025-03-27T17:55:47.326135Z"
    }
   },
   "source": [
    "import joblib\n",
    "from scipy.sparse import hstack\n",
    "import nltk\n",
    "from nltk.corpus import stopwords\n",
    "import json\n",
    "\n",
    "#Load model the model\n",
    "nb_model = joblib.load(\"phishing_detector.pkl\")\n",
    "\n",
    "# Download stopwords\n",
    "nltk.download('stopwords')\n",
    "stop_words = set(stopwords.words('english'))\n",
    "\n",
    "def clean_text(text): #clean data\n",
    "    if not isinstance(text, str):\n",
    "        text = str(text)\n",
    "    return ' '.join(word for word in text.split() if word.lower() not in stop_words)\n",
    "\n",
    "\n",
    "def predict_email(email_data):\n",
    "\n",
    "        primary_key = email_data['id']\n",
    "\n",
    "        # Clean the input text\n",
    "        cleaned_sender = clean_text(email_data['sender'])\n",
    "        cleaned_subject = clean_text(email_data['subject'])\n",
    "        cleaned_body = clean_text(email_data['body'])\n",
    "\n",
    "        # Convert text into TF-IDF features\n",
    "        X_sender = tfidf_sender.transform([cleaned_sender])\n",
    "        X_subject = tfidf_subject.transform([cleaned_subject])\n",
    "        X_body = tfidf_body.transform([cleaned_body])\n",
    "\n",
    "        # Combine features\n",
    "        X_combined = hstack((X_sender, X_subject, X_body))\n",
    "\n",
    "        # Make prediction\n",
    "        prediction = nb_model.predict(X_combined)[0]\n",
    "        confidence = nb_model.predict_proba(X_combined)[0][1]\n",
    "\n",
    "        # Return result with the existing primary key\n",
    "        return {\n",
    "            \"id\": primary_key,\n",
    "            \"sender\": email_data['sender'],\n",
    "            \"subject\": email_data['subject'],\n",
    "            \"body\": email_data['body'],\n",
    "            \"prediction\": \"Phishing\" if prediction == 1 else \"Good Email\",\n",
    "            \"confidence\": confidence\n",
    "        }\n",
    "\n",
    "output = json.dumps(result)\n",
    "\n",
    "    # import id, sender, subject, body\n",
    "    # export id, sender, subject, body, prediction, confidence"
   ],
   "outputs": [
    {
     "name": "stderr",
     "output_type": "stream",
     "text": [
      "[nltk_data] Downloading package stopwords to C:\\Users\\may/nltk_data...\n",
      "[nltk_data]   Package stopwords is already up-to-date!\n"
     ]
    }
   ],
   "execution_count": 11
  }
 ],
 "metadata": {
  "kernelspec": {
   "display_name": "Python 3",
   "language": "python",
   "name": "python3"
  },
  "language_info": {
   "codemirror_mode": {
    "name": "ipython",
    "version": 2
   },
   "file_extension": ".py",
   "mimetype": "text/x-python",
   "name": "python",
   "nbconvert_exporter": "python",
   "pygments_lexer": "ipython2",
   "version": "2.7.6"
  }
 },
 "nbformat": 4,
 "nbformat_minor": 5
}
