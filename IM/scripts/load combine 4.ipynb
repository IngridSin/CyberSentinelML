{
 "cells": [
  {
   "cell_type": "code",
   "id": "initial_id",
   "metadata": {
    "collapsed": true,
    "ExecuteTime": {
     "end_time": "2025-04-02T05:01:35.793213Z",
     "start_time": "2025-04-02T05:01:32.044966Z"
    }
   },
   "source": [
    "import numpy as np\n",
    "import joblib\n",
    "import re\n",
    "from nltk.corpus import stopwords\n",
    "from scipy.sparse import hstack\n",
    "import sys\n",
    "import json\n",
    "\n",
    "# Load stopwords\n",
    "stop_words = set(stopwords.words('english'))\n",
    "\n",
    "# Text Cleaning Function\n",
    "def clean_text(text):\n",
    "    if not isinstance(text, str):\n",
    "        text = str(text)\n",
    "    text = re.sub(r'\\W', ' ', text)\n",
    "    text = ' '.join(word for word in text.split() if word not in stop_words)\n",
    "    return text\n",
    "\n",
    "# Load the bundled pipeline\n",
    "pipeline = joblib.load(r\"C:\\Users\\may\\Desktop\\phishing_pipeline.joblib\")\n",
    "ensemble_model = pipeline['ensemble_model']\n",
    "tfidf_subject = pipeline['tfidf_subject']\n",
    "tfidf_body = pipeline['tfidf_body']\n",
    "\n",
    "# Access fitted base models from the ensemble\n",
    "models = ensemble_model.named_estimators_\n",
    "\n",
    "# Function to process input and return predictions\n",
    "def predict_phishing(id, subject, body):\n",
    "    # Clean input\n",
    "    cleaned_subject = clean_text(subject)\n",
    "    cleaned_body = clean_text(body)\n",
    "\n",
    "    # Vectorize using loaded TF-IDF vectorizers\n",
    "    X_subject = tfidf_subject.transform([cleaned_subject])\n",
    "    X_body = tfidf_body.transform([cleaned_body])\n",
    "    X_combined = hstack((X_subject, X_body))\n",
    "\n",
    "    # Ensemble prediction\n",
    "    prediction = ensemble_model.predict(X_combined)[0]\n",
    "    ensemble_probs = ensemble_model.predict_proba(X_combined)[0]\n",
    "    ensemble_prob_class1 = ensemble_probs[1]\n",
    "\n",
    "    # Individual model predictions and probabilities\n",
    "    model_scores = {}\n",
    "    for name, model in models.items():\n",
    "        pred = model.predict(X_combined)[0]\n",
    "        probs = model.predict_proba(X_combined)[0]\n",
    "        prob = probs[1] if pred == 1 else probs[0]\n",
    "        model_scores[name] = (pred, prob)\n",
    "\n",
    "    # Determine winner\n",
    "    winner = max(model_scores, key=lambda k: model_scores[k][1] if model_scores[k][0] == prediction else -1)\n",
    "    winner_probability = model_scores[winner][1]\n",
    "\n",
    "    # Return dictionary with id included\n",
    "    result = {\n",
    "        \"id\": id,  # Pass through the id\n",
    "        \"subject\": subject,\n",
    "        \"body\": body,\n",
    "        \"prediction\": int(prediction),\n",
    "        \"winner_model\": winner,\n",
    "        \"winner_probability\": float(winner_probability)\n",
    "    }\n",
    "    return result\n",
    "\n"
   ],
   "outputs": [
    {
     "name": "stdout",
     "output_type": "stream",
     "text": [
      "Test Result:\n",
      "{\n",
      "    \"id\": \"12345\",\n",
      "    \"subject\": \"Urgent: Account Verification Required\",\n",
      "    \"body\": \"Dear user, click this link to verify your account immediately or it will be suspended.\",\n",
      "    \"prediction\": 1,\n",
      "    \"winner_model\": \"logreg\",\n",
      "    \"winner_probability\": 0.9993839913868209\n",
      "}\n"
     ]
    }
   ],
   "execution_count": 1
  }
 ],
 "metadata": {
  "kernelspec": {
   "display_name": "Python 3",
   "language": "python",
   "name": "python3"
  },
  "language_info": {
   "codemirror_mode": {
    "name": "ipython",
    "version": 2
   },
   "file_extension": ".py",
   "mimetype": "text/x-python",
   "name": "python",
   "nbconvert_exporter": "python",
   "pygments_lexer": "ipython2",
   "version": "2.7.6"
  }
 },
 "nbformat": 4,
 "nbformat_minor": 5
}
