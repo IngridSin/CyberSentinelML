{
 "cells": [
  {
   "metadata": {},
   "cell_type": "markdown",
   "source": "",
   "id": "d71433874fb78d94"
  },
  {
   "metadata": {
    "ExecuteTime": {
     "end_time": "2025-04-02T05:00:50.456563Z",
     "start_time": "2025-04-02T04:48:10.735538Z"
    }
   },
   "cell_type": "code",
   "source": [
    "import pandas as pd\n",
    "import nltk\n",
    "from nltk.corpus import stopwords\n",
    "import re\n",
    "import numpy as np\n",
    "from sklearn.model_selection import train_test_split\n",
    "from sklearn.feature_extraction.text import TfidfVectorizer\n",
    "from sklearn.naive_bayes import MultinomialNB\n",
    "from sklearn.ensemble import RandomForestClassifier, VotingClassifier\n",
    "from sklearn.neighbors import KNeighborsClassifier\n",
    "from sklearn.linear_model import LogisticRegression\n",
    "from sklearn.metrics import accuracy_score, classification_report, confusion_matrix, roc_curve, auc\n",
    "from xgboost import XGBClassifier\n",
    "import matplotlib.pyplot as plt\n",
    "import seaborn as sns\n",
    "from scipy.sparse import hstack\n",
    "import joblib\n",
    "\n",
    "# Load dataset\n",
    "df_1 = pd.read_csv(r\"C:\\Users\\may\\Desktop\\dataset\\CEAS_08.csv\")\n",
    "df_2 = pd.read_csv(r\"C:\\Users\\may\\Desktop\\dataset\\data.csv\")\n",
    "df_3 = pd.read_csv(r\"C:\\Users\\may\\Desktop\\dataset\\balanced.csv\")\n",
    "\n",
    "# Extract relevant features and target (excluding sender)\n",
    "df_1 = df_1[['subject', 'body', 'label']]\n",
    "df_2 = df_2.rename(columns={'Email Text': 'body', 'Email Type': 'label'})[['body', 'label']]\n",
    "df_3 = df_3.rename(columns={'class': 'label'})[['body', 'label']]\n",
    "\n",
    "# Convert Email Type to boolean\n",
    "df_2['label'] = df_2['label'].map({'Safe Email': 0, 'Phishing Email': 1})\n",
    "\n",
    "# Remove empty values\n",
    "df_1 = df_1.dropna(subset=['body', 'subject', 'label'])\n",
    "df_2 = df_2.dropna(subset=['body'])\n",
    "df_3 = df_3.dropna(subset=['body', 'label'])\n",
    "\n",
    "# Add missing subject column to df_2 and df_3 (empty strings)\n",
    "df_2['subject'] = ''\n",
    "df_3['subject'] = ''\n",
    "\n",
    "# Combine datasets\n",
    "df = pd.concat([df_1, df_2, df_3], ignore_index=True)\n",
    "df = df[df['label'].isin([0, 1])]\n",
    "\n",
    "# Download stopwords\n",
    "nltk.download('stopwords')\n",
    "stop_words = set(stopwords.words('english'))\n",
    "\n",
    "# Text Cleaning Function\n",
    "def clean_text(text):\n",
    "    if not isinstance(text, str):\n",
    "        text = str(text)\n",
    "    text = re.sub(r'\\W', ' ', text)\n",
    "    text = ' '.join(word for word in text.split() if word not in stop_words)\n",
    "    return text\n",
    "\n",
    "# Apply cleaning\n",
    "df['cleaned_subject'] = df['subject'].apply(clean_text)\n",
    "df['cleaned_body'] = df['body'].apply(clean_text)\n",
    "\n",
    "# TF-IDF Vectorization\n",
    "tfidf_subject = TfidfVectorizer()\n",
    "tfidf_body = TfidfVectorizer()\n",
    "X_subject = tfidf_subject.fit_transform(df['cleaned_subject'])\n",
    "X_body = tfidf_body.fit_transform(df['cleaned_body'])\n",
    "\n",
    "# Combine features\n",
    "X_combined = hstack((X_subject, X_body))\n",
    "y = df['label']\n",
    "\n",
    "# Split dataset\n",
    "X_train, X_test, y_train, y_test = train_test_split(X_combined, y, test_size=0.2, random_state=42)\n",
    "\n",
    "# Define base models\n",
    "nb_model = MultinomialNB(alpha=0.02)\n",
    "rf_model = RandomForestClassifier(n_estimators=670, random_state=42, n_jobs=-1)\n",
    "xgb_model = XGBClassifier(n_estimators=980, random_state=42, use_label_encoder=False, eval_metric='logloss', n_jobs=-1)\n",
    "logreg_model = LogisticRegression(C=9, random_state=42, n_jobs=-1, max_iter=1000)\n",
    "knn_model = KNeighborsClassifier(n_neighbors=6, n_jobs=-1)\n",
    "\n",
    "# Create Voting Classifier\n",
    "ensemble_model = VotingClassifier(\n",
    "    estimators=[('nb', nb_model), ('rf', rf_model), ('xgb', xgb_model), ('knn', knn_model), ('logreg', logreg_model)],\n",
    "    voting='soft'\n",
    ")\n",
    "\n",
    "# Train the ensemble model\n",
    "ensemble_model.fit(X_train, y_train)\n",
    "\n",
    "# Bundle model and vectorizers into a single dictionary\n",
    "pipeline = {\n",
    "    'ensemble_model': ensemble_model,\n",
    "    'tfidf_subject': tfidf_subject,\n",
    "    'tfidf_body': tfidf_body\n",
    "}\n",
    "\n",
    "# Save the bundled pipeline\n",
    "joblib.dump(pipeline, r\"C:\\Users\\may\\Desktop\\phishing_pipeline.joblib\")\n",
    "\n"
   ],
   "id": "84fa63fd97cd4621",
   "outputs": [
    {
     "name": "stderr",
     "output_type": "stream",
     "text": [
      "[nltk_data] Downloading package stopwords to C:\\Users\\may/nltk_data...\n",
      "[nltk_data]   Package stopwords is already up-to-date!\n",
      "C:\\Users\\may\\PycharmProjects\\ML\\.venv\\Lib\\site-packages\\xgboost\\training.py:183: UserWarning: [00:55:41] WARNING: C:\\actions-runner\\_work\\xgboost\\xgboost\\src\\learner.cc:738: \n",
      "Parameters: { \"use_label_encoder\" } are not used.\n",
      "\n",
      "  bst.update(dtrain, iteration=i, fobj=obj)\n"
     ]
    },
    {
     "data": {
      "text/plain": [
       "['C:\\\\Users\\\\may\\\\Desktop\\\\phishing_pipeline.joblib']"
      ]
     },
     "execution_count": 2,
     "metadata": {},
     "output_type": "execute_result"
    }
   ],
   "execution_count": 2
  }
 ],
 "metadata": {
  "kernelspec": {
   "display_name": "Python 3",
   "language": "python",
   "name": "python3"
  },
  "language_info": {
   "codemirror_mode": {
    "name": "ipython",
    "version": 2
   },
   "file_extension": ".py",
   "mimetype": "text/x-python",
   "name": "python",
   "nbconvert_exporter": "python",
   "pygments_lexer": "ipython2",
   "version": "2.7.6"
  }
 },
 "nbformat": 4,
 "nbformat_minor": 5
}
