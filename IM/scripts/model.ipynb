{
 "cells": [
  {
   "cell_type": "code",
   "id": "5142d540568e9646",
   "metadata": {
    "ExecuteTime": {
     "end_time": "2025-03-27T17:34:13.070148Z",
     "start_time": "2025-03-27T17:33:55.500110Z"
    }
   },
   "source": [
    "import pandas as pd\n",
    "import nltk\n",
    "from nltk.corpus import stopwords\n",
    "import re\n",
    "from sklearn.model_selection import train_test_split\n",
    "from sklearn.feature_extraction.text import TfidfVectorizer\n",
    "from sklearn.naive_bayes import MultinomialNB\n",
    "from sklearn.metrics import accuracy_score, classification_report\n",
    "from scipy.sparse import hstack\n",
    "import joblib\n",
    "\n",
    "# Load dataset\n",
    "df_1 = pd.read_csv(r\"C:\\Users\\may\\Desktop\\dataset\\CEAS_08.csv\")\n",
    "df_2 = pd.read_csv(r\"C:\\Users\\may\\Desktop\\dataset\\data.csv\")\n",
    "df_3 = pd.read_csv(r\"C:\\Users\\may\\Desktop\\dataset\\balanced.csv\")\n",
    "\n",
    "# Extract relevant features and target\n",
    "df_1 = df_1[['sender', 'subject', 'body', 'label']]\n",
    "df_2 = df_2.rename(columns={'Email Text': 'body', 'Email Type': 'label'})\n",
    "df_3 = df_3.rename(columns={'class': 'label'})\n",
    "\n",
    "# Convert Email Type to boolean\n",
    "df_2['label'] = df_2['label'].map({'Safe Email': 0, 'Phishing Email': 1})\n",
    "\n",
    "# Remove empty values\n",
    "df_1 = df_1.dropna(subset=['body', 'subject', 'label'])\n",
    "df_2 = df_2.dropna(subset=['body'])\n",
    "df_3 = df_3.dropna(subset=['body', 'label'])\n",
    "\n",
    "# Add missing columns\n",
    "df_2['sender'] = ''\n",
    "df_2['subject'] = ''\n",
    "df_3['sender'] = ''\n",
    "df_3['subject'] = ''\n",
    "\n",
    "# Combine datasets\n",
    "df = pd.concat([df_1, df_2, df_3], ignore_index=True)\n",
    "\n",
    "\n",
    "df = df[df['label'].isin([0, 1])]\n",
    "\n",
    "# Download stopwords\n",
    "nltk.download('stopwords')\n",
    "stop_words = set(stopwords.words('english'))\n",
    "\n",
    "# Text Cleaning Function\n",
    "def clean_text(text):\n",
    "  if not isinstance(text, str):\n",
    "    text = str(text)\n",
    "  text = ' '.join(word for word in text.split() if word not in stop_words)\n",
    "  return text\n",
    "\n",
    "df['cleaned_sender'] = df['sender'].apply(clean_text)\n",
    "df['cleaned_subject'] = df['subject'].apply(clean_text)\n",
    "df['cleaned_body'] = df['body'].apply(clean_text)\n",
    "\n",
    "# TF-IDF Vectorization\n",
    "tfidf_sender = TfidfVectorizer()\n",
    "tfidf_subject = TfidfVectorizer()\n",
    "tfidf_body = TfidfVectorizer()\n",
    "\n",
    "X_sender = tfidf_sender.fit_transform(df['cleaned_sender'])\n",
    "X_subject = tfidf_subject.fit_transform(df['cleaned_subject'])\n",
    "X_body = tfidf_body.fit_transform(df['cleaned_body'])\n",
    "\n",
    "# Combine all features\n",
    "X_combined = hstack((X_sender, X_subject, X_body))\n",
    "y_train = df['label']\n",
    "\n",
    "# Train Naive Bayes Model\n",
    "nb_model = MultinomialNB()\n",
    "nb_model.fit(X_combined, y_train)\n",
    "\n",
    "# Save the model\n",
    "joblib.dump(nb_model, \"phishing_detector.pkl\")\n"
   ],
   "outputs": [
    {
     "name": "stderr",
     "output_type": "stream",
     "text": [
      "[nltk_data] Downloading package stopwords to C:\\Users\\may/nltk_data...\n",
      "[nltk_data]   Package stopwords is already up-to-date!\n"
     ]
    },
    {
     "data": {
      "text/plain": [
       "['phishing_detector.pkl']"
      ]
     },
     "execution_count": 9,
     "metadata": {},
     "output_type": "execute_result"
    }
   ],
   "execution_count": 9
  }
 ],
 "metadata": {
  "kernelspec": {
   "display_name": "Python 3",
   "language": "python",
   "name": "python3"
  },
  "language_info": {
   "codemirror_mode": {
    "name": "ipython",
    "version": 2
   },
   "file_extension": ".py",
   "mimetype": "text/x-python",
   "name": "python",
   "nbconvert_exporter": "python",
   "pygments_lexer": "ipython2",
   "version": "2.7.6"
  }
 },
 "nbformat": 4,
 "nbformat_minor": 5
}
